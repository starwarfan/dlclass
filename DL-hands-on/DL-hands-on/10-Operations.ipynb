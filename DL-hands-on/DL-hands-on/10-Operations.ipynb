{
 "cells": [
  {
   "cell_type": "markdown",
   "metadata": {
    "deletable": true,
    "editable": true
   },
   "source": [
    "# Operations in the Real World\n",
    "\n",
    "## Practical Options, Tools, Patterns, and Considerations for Deep Learning"
   ]
  },
  {
   "cell_type": "markdown",
   "metadata": {
    "collapsed": true,
    "deletable": true,
    "editable": true
   },
   "source": [
    "There are various ways to use deep learning in an enterprise setting that may not require designing your own networks!\n",
    "\n",
    "### Ways to Use Deep Learning\n",
    "\n",
    "(in order from least complex/expensive investment to most)\n",
    "\n",
    "[1] Load and use a pretrained model\n",
    "\n",
    "Many of the existing toolkit projects offer models pretrained on datasets, including\n",
    "* natural language corpus models\n",
    "* image datasets like ImageNet (http://www.image-net.org/) or Google's Open Image Dataset (https://research.googleblog.com/2016/09/introducing-open-images-dataset.html)\n",
    "* video datasets like the YouTube 8 million video dataset (https://research.googleblog.com/2016/09/announcing-youtube-8m-large-and-diverse.html)\n",
    "\n",
    "[2] Augmenting a pretrained model with new training data, or using it in a related context (see Transfer Learning)\n",
    "\n",
    "[3] Use a known, established network type (topology) but train on your own data\n",
    "\n",
    "[4] Modify established network models for your specific problem\n",
    "\n",
    "[5] Research and experiment with new types of models\n",
    "\n",
    "__Just because Google DeepMind, Facebook, and Microsoft are getting press for doing a lot of new research doesn't mean you have to do it too.__\n",
    "\n",
    "<img src=\"http://i.imgur.com/XczCfNR.png\" width=500>\n",
    "<img src=\"http://i.imgur.com/vcaj99I.jpg\" width=500>\n",
    "\n",
    "Data science and machine learning is challenging in general for enterprises (though some industries, such as pharma, have been doing it for a long time). Deep learning takes that even further, since deep learning experiments may require new kinds of hardware ... in some ways, it's more like chemistry than the average IT project!"
   ]
  },
  {
   "cell_type": "markdown",
   "metadata": {
    "deletable": true,
    "editable": true
   },
   "source": [
    "### Tools and Processes for your Deep Learning Pipeline\n",
    "\n",
    "#### Data Munging\n",
    "\n",
    "Most of the deep learning toolkits are focused on model-building performance or flexibility, less on production data processing.\n",
    "\n",
    "However, Google recently introduced `tf.Transform`, a data processing pipeline project: https://github.com/tensorflow/transform\n",
    "\n",
    "TensorFlow can read from HDFS and run on Hadoop although it *does not* scale out automatically on a Hadoop/Spark cluster: https://www.tensorflow.org/deploy/hadoop\n",
    "\n",
    "Falling back to \"regular\" tools, we have Apache Spark for big data, and the Python family of pandas, sklearn, scipy, numpy.\n",
    "\n",
    "#### Experimenting\n",
    "\n",
    "Once you want to scale beyond your laptop, there are few options...\n",
    "\n",
    "* AWS GPU-enabled instances\n",
    "* Deep-learning-infrastructure as a Service\n",
    "    * [easy] \"Floyd aims to be the Heroku of Deep Learning\" https://www.floydhub.com/\n",
    "    * [easy] Algorithms as a service and or model deployment https://algorithmia.com/\n",
    "    * [medium] Google Cloud Platform \"Cloud Machine Learning Engine\" https://cloud.google.com/ml-engine/\n",
    "    * [hard] Amazon Deep Learning AMI + CloudFormation https://aws.amazon.com/blogs/compute/distributed-deep-learning-made-easy/\n",
    "* On your own infrastructure or VMs\n",
    "    * Distributed TensorFlow is free, OSS\n",
    "    * Apache Spark combined with either Intel BigDL or DeepLearning4J\n",
    "    \n",
    "#### Frameworks\n",
    "\n",
    "We've focused on TensorFlow and Keras, because that's where the \"center of mass\" is at the moment.\n",
    "\n",
    "But there are lots of others. Major ones include:\n",
    "* Caffe\n",
    "* PaddlePaddle\n",
    "* Theano\n",
    "* MXNet\n",
    "* DeepLearning4J\n",
    "* Microsoft CNTK\n",
    "* Torch\n",
    "* NVIDIA Digits\n",
    "\n",
    "and there are at least a dozen more minor ones.\n",
    "\n",
    "#### Taking Your Trained Model to Production\n",
    "\n",
    "Most trained models can predict in production in near-zero time. (Recall the forward pass is just a bunch of multiplication and addition with a few other calculations thrown in.)\n",
    "\n",
    "For a neat example, you can persist Keras models and load them to run live in a browser with Keras.js\n",
    "\n",
    "See Keras.js for code and demos: https://github.com/transcranial/keras-js\n",
    "\n",
    "<img src=\"http://i.imgur.com/5xx62zw.png\" width=700>\n",
    "\n",
    "TensorFlow has an Android example at https://github.com/tensorflow/tensorflow/tree/master/tensorflow/examples/android\n",
    "\n",
    "(remember, the model is already trained, we're just predicting here)\n",
    "\n",
    "#### And for your server-side model update-and-serve tasks, or bulk prediction at scale...\n",
    "\n",
    "(imagine classifying huge batches of images, or analyzing millions of chat messages or emails)\n",
    "\n",
    "* TensorFlow has a project called TensorFlow Serving: https://tensorflow.github.io/serving/\n",
    "* Apache Spark + (DL4J | BigDL | TensorFlowOnSpark)\n",
    "\n",
    "* DeepLearning4J can import your Keras model: https://deeplearning4j.org/model-import-keras\n",
    "    * (which is a really nice contribution, but not magic -- remember the model is just a pile of weights, convolution kernels, etc. ... in the worst case, many thousands of floats)\n",
    "\n",
    "* http://pipeline.io/ by Netflix and Databricks alum Chris Fregly\n",
    "* https://valohai.com/ may be worth keeping an eye on, though they are currently in closed beta\n",
    "\n",
    "### Security and Robustness\n",
    "\n",
    "A recent (3/2017) paper on general key failure modes is __Failures of Deep Learning__: https://arxiv.org/abs/1703.07950\n",
    "\n",
    "Deep learning models are subject to a variety of unexpected perturbations and adversarial data -- even when they seem to \"understand,\" they definitely don't understand in a way that is similar to us.\n",
    "\n",
    "<img src=\"http://i.imgur.com/3LjF9xl.png\">\n",
    "\n",
    "Ian Goodfellow has distilled and referenced some of the research here: https://openai.com/blog/adversarial-example-research/\n",
    "\n",
    "It's all fun and games until a few tiny stickers that a human can't even see ... turn a stop sign into a \"go\" sign for your self-driving car."
   ]
  },
  {
   "cell_type": "markdown",
   "metadata": {
    "deletable": true,
    "editable": true
   },
   "source": [
    "# Final Notes\n",
    "\n",
    "The research and projects are coming so fast that this will probably be outdated by the time you see it ...\n",
    "\n",
    "#### 2017 will be the last ILSVRC! http://image-net.org/challenges/beyond_ilsvrc.php\n",
    "\n",
    "Try visualizing principal components of high-dimensional data with __TensorFlow Embedding Projector__ http://projector.tensorflow.org/\n",
    "\n",
    "__XLA__, an experimental compiler to make TensorFlow even faster: https://www.tensorflow.org/versions/master/experimental/xla/\n",
    "\n",
    "...and in addition to refinements of what we've already talked about, there is bleeding-edge work in\n",
    "* Neural Turing Machines\n",
    "* Code-generating Networks\n",
    "* Network-designing Networks\n",
    "* Evolution Strategies (ES) as an alternative to DQL / PG: https://arxiv.org/abs/1703.03864"
   ]
  }
 ],
 "metadata": {
  "kernelspec": {
   "display_name": "Python 3",
   "language": "python",
   "name": "python3"
  },
  "language_info": {
   "codemirror_mode": {
    "name": "ipython",
    "version": 3
   },
   "file_extension": ".py",
   "mimetype": "text/x-python",
   "name": "python",
   "nbconvert_exporter": "python",
   "pygments_lexer": "ipython3",
   "version": "3.4.5"
  }
 },
 "nbformat": 4,
 "nbformat_minor": 2
}
